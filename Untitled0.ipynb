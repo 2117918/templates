{
  "nbformat": 4,
  "nbformat_minor": 0,
  "metadata": {
    "colab": {
      "name": "Untitled0.ipynb",
      "provenance": [],
      "authorship_tag": "ABX9TyM0bfgSicNC2E2F67HWLj70",
      "include_colab_link": true
    },
    "kernelspec": {
      "name": "python3",
      "display_name": "Python 3"
    },
    "language_info": {
      "name": "python"
    }
  },
  "cells": [
    {
      "cell_type": "markdown",
      "metadata": {
        "id": "view-in-github",
        "colab_type": "text"
      },
      "source": [
        "<a href=\"https://colab.research.google.com/github/2117918/templates/blob/main/Untitled0.ipynb\" target=\"_parent\"><img src=\"https://colab.research.google.com/assets/colab-badge.svg\" alt=\"Open In Colab\"/></a>"
      ]
    },
    {
      "cell_type": "code",
      "execution_count": 1,
      "metadata": {
        "colab": {
          "base_uri": "https://localhost:8080/"
        },
        "id": "M9v-49tEh970",
        "outputId": "ae456125-e52d-4a4d-f3da-f811b55cdee8"
      },
      "outputs": [
        {
          "output_type": "stream",
          "name": "stdout",
          "text": [
            "Collecting flask-ngrok\n",
            "  Downloading flask_ngrok-0.0.25-py3-none-any.whl (3.1 kB)\n",
            "Requirement already satisfied: requests in /usr/local/lib/python3.7/dist-packages (from flask-ngrok) (2.23.0)\n",
            "Requirement already satisfied: Flask>=0.8 in /usr/local/lib/python3.7/dist-packages (from flask-ngrok) (1.1.4)\n",
            "Requirement already satisfied: itsdangerous<2.0,>=0.24 in /usr/local/lib/python3.7/dist-packages (from Flask>=0.8->flask-ngrok) (1.1.0)\n",
            "Requirement already satisfied: click<8.0,>=5.1 in /usr/local/lib/python3.7/dist-packages (from Flask>=0.8->flask-ngrok) (7.1.2)\n",
            "Requirement already satisfied: Werkzeug<2.0,>=0.15 in /usr/local/lib/python3.7/dist-packages (from Flask>=0.8->flask-ngrok) (1.0.1)\n",
            "Requirement already satisfied: Jinja2<3.0,>=2.10.1 in /usr/local/lib/python3.7/dist-packages (from Flask>=0.8->flask-ngrok) (2.11.3)\n",
            "Requirement already satisfied: MarkupSafe>=0.23 in /usr/local/lib/python3.7/dist-packages (from Jinja2<3.0,>=2.10.1->Flask>=0.8->flask-ngrok) (2.0.1)\n",
            "Requirement already satisfied: urllib3!=1.25.0,!=1.25.1,<1.26,>=1.21.1 in /usr/local/lib/python3.7/dist-packages (from requests->flask-ngrok) (1.24.3)\n",
            "Requirement already satisfied: chardet<4,>=3.0.2 in /usr/local/lib/python3.7/dist-packages (from requests->flask-ngrok) (3.0.4)\n",
            "Requirement already satisfied: idna<3,>=2.5 in /usr/local/lib/python3.7/dist-packages (from requests->flask-ngrok) (2.10)\n",
            "Requirement already satisfied: certifi>=2017.4.17 in /usr/local/lib/python3.7/dist-packages (from requests->flask-ngrok) (2021.10.8)\n",
            "Installing collected packages: flask-ngrok\n",
            "Successfully installed flask-ngrok-0.0.25\n",
            "Collecting pyngrok\n",
            "  Downloading pyngrok-5.1.0.tar.gz (745 kB)\n",
            "\u001b[K     |████████████████████████████████| 745 kB 13.9 MB/s \n",
            "\u001b[?25hRequirement already satisfied: PyYAML in /usr/local/lib/python3.7/dist-packages (from pyngrok) (3.13)\n",
            "Building wheels for collected packages: pyngrok\n",
            "  Building wheel for pyngrok (setup.py) ... \u001b[?25l\u001b[?25hdone\n",
            "  Created wheel for pyngrok: filename=pyngrok-5.1.0-py3-none-any.whl size=19007 sha256=5eb809c807a1491f0788e140363b3d7ab626850fafb1c8f1edd81bb6d17ce361\n",
            "  Stored in directory: /root/.cache/pip/wheels/bf/e6/af/ccf6598ecefecd44104069371795cb9b3afbcd16987f6ccfb3\n",
            "Successfully built pyngrok\n",
            "Installing collected packages: pyngrok\n",
            "Successfully installed pyngrok-5.1.0\n",
            "Collecting flask-wtf\n",
            "  Downloading Flask_WTF-1.0.0-py3-none-any.whl (12 kB)\n",
            "Collecting WTForms\n",
            "  Downloading WTForms-3.0.1-py3-none-any.whl (136 kB)\n",
            "\u001b[K     |████████████████████████████████| 136 kB 11.4 MB/s \n",
            "\u001b[?25hRequirement already satisfied: Flask in /usr/local/lib/python3.7/dist-packages (from flask-wtf) (1.1.4)\n",
            "Requirement already satisfied: itsdangerous in /usr/local/lib/python3.7/dist-packages (from flask-wtf) (1.1.0)\n",
            "Requirement already satisfied: click<8.0,>=5.1 in /usr/local/lib/python3.7/dist-packages (from Flask->flask-wtf) (7.1.2)\n",
            "Requirement already satisfied: Jinja2<3.0,>=2.10.1 in /usr/local/lib/python3.7/dist-packages (from Flask->flask-wtf) (2.11.3)\n",
            "Requirement already satisfied: Werkzeug<2.0,>=0.15 in /usr/local/lib/python3.7/dist-packages (from Flask->flask-wtf) (1.0.1)\n",
            "Requirement already satisfied: MarkupSafe>=0.23 in /usr/local/lib/python3.7/dist-packages (from Jinja2<3.0,>=2.10.1->Flask->flask-wtf) (2.0.1)\n",
            "Installing collected packages: WTForms, flask-wtf\n",
            "Successfully installed WTForms-3.0.1 flask-wtf-1.0.0\n",
            "Authtoken saved to configuration file: /root/.ngrok2/ngrok.yml\n"
          ]
        }
      ],
      "source": [
        "!pip install flask-ngrok\n",
        "!pip install pyngrok\n",
        "!pip install flask-wtf\n",
        "\n",
        "!ngrok authtoken \"26C2E9TDrGAjUJ16eIl6szaCCNE_75uNC6MKG2mDdzREeZL92\""
      ]
    },
    {
      "cell_type": "code",
      "source": [
        "!git clone \"https://github.com/2117918/templates\""
      ],
      "metadata": {
        "colab": {
          "base_uri": "https://localhost:8080/"
        },
        "id": "QM_mRVpsiTvK",
        "outputId": "10a873ad-6501-4efc-d3bf-9533ed867fb7"
      },
      "execution_count": 2,
      "outputs": [
        {
          "output_type": "stream",
          "name": "stdout",
          "text": [
            "Cloning into 'templates'...\n",
            "remote: Enumerating objects: 42, done.\u001b[K\n",
            "remote: Counting objects: 100% (42/42), done.\u001b[K\n",
            "remote: Compressing objects: 100% (32/32), done.\u001b[K\n",
            "remote: Total 42 (delta 17), reused 34 (delta 9), pack-reused 0\u001b[K\n",
            "Unpacking objects: 100% (42/42), done.\n"
          ]
        }
      ]
    },
    {
      "cell_type": "code",
      "source": [
        "import os\n",
        "os.chdir(\"/content/templates\")"
      ],
      "metadata": {
        "id": "vcWOtUvJil6G"
      },
      "execution_count": 3,
      "outputs": []
    },
    {
      "cell_type": "code",
      "source": [
        "from flask import *\n",
        "from flask_ngrok import run_with_ngrok\n",
        "\n",
        "app = Flask(__name__)\n",
        "\n",
        "app_data = {\n",
        "    \"name\":         \"Peter's Starter Template for a Flask Web App\",\n",
        "    \"description\":  \"A basic Flask app using bootstrap for layout\",\n",
        "    \"author\":       \"Peter Simeth\",\n",
        "    \"html_title\":   \"Peter's Starter Template for a Flask Web App\",\n",
        "    \"project_name\": \"Starter Template\",\n",
        "    \"keywords\":     \"flask, webapp, template, basic\"\n",
        "}\n",
        "\n",
        "\n",
        "@app.route('/')\n",
        "def index():\n",
        "    return render_template('index.html', app_data=app_data)\n",
        "\n",
        "run_with_ngrok(app)\n",
        "app.run()"
      ],
      "metadata": {
        "colab": {
          "base_uri": "https://localhost:8080/"
        },
        "id": "QIPirr-TixRY",
        "outputId": "8f7d1cef-fa03-4237-eede-5ecdce0fe004"
      },
      "execution_count": null,
      "outputs": [
        {
          "metadata": {
            "tags": null
          },
          "name": "stdout",
          "output_type": "stream",
          "text": [
            " * Serving Flask app \"__main__\" (lazy loading)\n",
            " * Environment: production\n",
            "\u001b[31m   WARNING: This is a development server. Do not use it in a production deployment.\u001b[0m\n",
            "\u001b[2m   Use a production WSGI server instead.\u001b[0m\n",
            " * Debug mode: off\n"
          ]
        },
        {
          "metadata": {
            "tags": null
          },
          "name": "stderr",
          "output_type": "stream",
          "text": [
            " * Running on http://127.0.0.1:5000/ (Press CTRL+C to quit)\n",
            "Exception in thread _colab_inspector_thread:\n",
            "Traceback (most recent call last):\n",
            "  File \"/usr/lib/python3.7/threading.py\", line 926, in _bootstrap_inner\n",
            "    self.run()\n",
            "  File \"/usr/lib/python3.7/threading.py\", line 870, in run\n",
            "    self._target(*self._args, **self._kwargs)\n",
            "  File \"/usr/local/lib/python3.7/dist-packages/google/colab/_debugpy.py\", line 64, in inspector_thread\n",
            "    _variable_inspector.run(shell, time)\n",
            "  File \"/usr/local/lib/python3.7/dist-packages/google/colab/_variable_inspector.py\", line 27, in run\n",
            "    globals().clear()\n",
            "TypeError: 'module' object is not callable\n",
            "\n"
          ]
        },
        {
          "metadata": {
            "tags": null
          },
          "name": "stdout",
          "output_type": "stream",
          "text": [
            " * Running on http://0688-34-141-214-228.ngrok.io\n",
            " * Traffic stats available on http://127.0.0.1:4040\n"
          ]
        },
        {
          "metadata": {
            "tags": null
          },
          "name": "stderr",
          "output_type": "stream",
          "text": [
            "[2022-03-11 14:28:50,320] ERROR in app: Exception on / [GET]\n",
            "Traceback (most recent call last):\n",
            "  File \"/usr/local/lib/python3.7/dist-packages/flask/app.py\", line 2447, in wsgi_app\n",
            "    response = self.full_dispatch_request()\n",
            "  File \"/usr/local/lib/python3.7/dist-packages/flask/app.py\", line 1952, in full_dispatch_request\n",
            "    rv = self.handle_user_exception(e)\n",
            "  File \"/usr/local/lib/python3.7/dist-packages/flask/app.py\", line 1821, in handle_user_exception\n",
            "    reraise(exc_type, exc_value, tb)\n",
            "  File \"/usr/local/lib/python3.7/dist-packages/flask/_compat.py\", line 39, in reraise\n",
            "    raise value\n",
            "  File \"/usr/local/lib/python3.7/dist-packages/flask/app.py\", line 1950, in full_dispatch_request\n",
            "    rv = self.dispatch_request()\n",
            "  File \"/usr/local/lib/python3.7/dist-packages/flask/app.py\", line 1936, in dispatch_request\n",
            "    return self.view_functions[rule.endpoint](**req.view_args)\n",
            "  File \"<ipython-input-4-ffbd35839348>\", line 18, in index\n",
            "    return render_template('index.html', app_data=app_data)\n",
            "  File \"/usr/local/lib/python3.7/dist-packages/flask/templating.py\", line 140, in render_template\n",
            "    ctx.app,\n",
            "  File \"/usr/local/lib/python3.7/dist-packages/flask/templating.py\", line 120, in _render\n",
            "    rv = template.render(context)\n",
            "  File \"/usr/local/lib/python3.7/dist-packages/jinja2/environment.py\", line 1090, in render\n",
            "    self.environment.handle_exception()\n",
            "  File \"/usr/local/lib/python3.7/dist-packages/jinja2/environment.py\", line 832, in handle_exception\n",
            "    reraise(*rewrite_traceback_stack(source=source))\n",
            "  File \"/usr/local/lib/python3.7/dist-packages/jinja2/_compat.py\", line 28, in reraise\n",
            "    raise value.with_traceback(tb)\n",
            "  File \"/content/templates/templates/index.html\", line 7, in top-level template code\n",
            "    <link rel=\"icon\" href=\"{{url_for('static', filname='images/warwick life.jpg')}}\">\n",
            "  File \"/usr/local/lib/python3.7/dist-packages/flask/helpers.py\", line 370, in url_for\n",
            "    return appctx.app.handle_url_build_error(error, endpoint, values)\n",
            "  File \"/usr/local/lib/python3.7/dist-packages/flask/app.py\", line 2216, in handle_url_build_error\n",
            "    reraise(exc_type, exc_value, tb)\n",
            "  File \"/usr/local/lib/python3.7/dist-packages/flask/_compat.py\", line 39, in reraise\n",
            "    raise value\n",
            "  File \"/usr/local/lib/python3.7/dist-packages/flask/helpers.py\", line 358, in url_for\n",
            "    endpoint, values, method=method, force_external=external\n",
            "  File \"/usr/local/lib/python3.7/dist-packages/werkzeug/routing.py\", line 2179, in build\n",
            "    raise BuildError(endpoint, values, method, self)\n",
            "werkzeug.routing.BuildError: Could not build url for endpoint 'static' with values ['filname']. Did you forget to specify values ['filename']?\n",
            "127.0.0.1 - - [11/Mar/2022 14:28:50] \"\u001b[35m\u001b[1mGET / HTTP/1.1\u001b[0m\" 500 -\n",
            "[2022-03-11 14:29:29,638] ERROR in app: Exception on / [GET]\n",
            "Traceback (most recent call last):\n",
            "  File \"/usr/local/lib/python3.7/dist-packages/flask/app.py\", line 2447, in wsgi_app\n",
            "    response = self.full_dispatch_request()\n",
            "  File \"/usr/local/lib/python3.7/dist-packages/flask/app.py\", line 1952, in full_dispatch_request\n",
            "    rv = self.handle_user_exception(e)\n",
            "  File \"/usr/local/lib/python3.7/dist-packages/flask/app.py\", line 1821, in handle_user_exception\n",
            "    reraise(exc_type, exc_value, tb)\n",
            "  File \"/usr/local/lib/python3.7/dist-packages/flask/_compat.py\", line 39, in reraise\n",
            "    raise value\n",
            "  File \"/usr/local/lib/python3.7/dist-packages/flask/app.py\", line 1950, in full_dispatch_request\n",
            "    rv = self.dispatch_request()\n",
            "  File \"/usr/local/lib/python3.7/dist-packages/flask/app.py\", line 1936, in dispatch_request\n",
            "    return self.view_functions[rule.endpoint](**req.view_args)\n",
            "  File \"<ipython-input-4-ffbd35839348>\", line 18, in index\n",
            "    return render_template('index.html', app_data=app_data)\n",
            "  File \"/usr/local/lib/python3.7/dist-packages/flask/templating.py\", line 140, in render_template\n",
            "    ctx.app,\n",
            "  File \"/usr/local/lib/python3.7/dist-packages/flask/templating.py\", line 120, in _render\n",
            "    rv = template.render(context)\n",
            "  File \"/usr/local/lib/python3.7/dist-packages/jinja2/environment.py\", line 1090, in render\n",
            "    self.environment.handle_exception()\n",
            "  File \"/usr/local/lib/python3.7/dist-packages/jinja2/environment.py\", line 832, in handle_exception\n",
            "    reraise(*rewrite_traceback_stack(source=source))\n",
            "  File \"/usr/local/lib/python3.7/dist-packages/jinja2/_compat.py\", line 28, in reraise\n",
            "    raise value.with_traceback(tb)\n",
            "  File \"/content/templates/templates/index.html\", line 7, in top-level template code\n",
            "    <link rel=\"icon\" href=\"{{url_for('static', filname='images/warwick life.jpg')}}\">\n",
            "  File \"/usr/local/lib/python3.7/dist-packages/flask/helpers.py\", line 370, in url_for\n",
            "    return appctx.app.handle_url_build_error(error, endpoint, values)\n",
            "  File \"/usr/local/lib/python3.7/dist-packages/flask/app.py\", line 2216, in handle_url_build_error\n",
            "    reraise(exc_type, exc_value, tb)\n",
            "  File \"/usr/local/lib/python3.7/dist-packages/flask/_compat.py\", line 39, in reraise\n",
            "    raise value\n",
            "  File \"/usr/local/lib/python3.7/dist-packages/flask/helpers.py\", line 358, in url_for\n",
            "    endpoint, values, method=method, force_external=external\n",
            "  File \"/usr/local/lib/python3.7/dist-packages/werkzeug/routing.py\", line 2179, in build\n",
            "    raise BuildError(endpoint, values, method, self)\n",
            "werkzeug.routing.BuildError: Could not build url for endpoint 'static' with values ['filname']. Did you forget to specify values ['filename']?\n",
            "127.0.0.1 - - [11/Mar/2022 14:29:29] \"\u001b[35m\u001b[1mGET / HTTP/1.1\u001b[0m\" 500 -\n"
          ]
        }
      ]
    }
  ]
}